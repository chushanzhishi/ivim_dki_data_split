{
 "cells": [
  {
   "cell_type": "markdown",
   "metadata": {},
   "source": [
    "# 1. Import libs anaconda"
   ]
  },
  {
   "cell_type": "code",
   "execution_count": 2,
   "metadata": {},
   "outputs": [],
   "source": [
    "import numpy as np\n",
    "from dipy.core.gradients import gradient_table\n",
    "from dipy.io.gradients import read_bvals_bvecs\n",
    "from dipy.io.image import load_nifti_data\n",
    "from dipy.io.image import load_nifti\n",
    "from dipy.io.image import save_nifti\n"
   ]
  },
  {
   "cell_type": "markdown",
   "metadata": {},
   "source": [
    "# 2. demonstration for IVIM-DKI data split"
   ]
  },
  {
   "cell_type": "code",
   "execution_count": 3,
   "metadata": {},
   "outputs": [],
   "source": [
    "fraw = \"E:\\\\02_MriDataSet\\\\07_demo\\\\00_bili_data\\\\100_B\\demo\\\\1.2.276.0.7230010.3.1.2.236817348.10464.1640932714.10_IVIM-DKI_3_20220103154430_11.nii\"\n",
    "fbval = \"E:\\\\02_MriDataSet\\\\07_demo\\\\00_bili_data\\\\100_B\\demo\\\\1.2.276.0.7230010.3.1.2.236817348.10464.1640932714.10_IVIM-DKI_3_20220103154430_11.bvals\"\n",
    "fbvec = \"E:\\\\02_MriDataSet\\\\07_demo\\\\00_bili_data\\\\100_B\\demo\\\\1.2.276.0.7230010.3.1.2.236817348.10464.1640932714.10_IVIM-DKI_3_20220103154430_11.bvecs\""
   ]
  },
  {
   "cell_type": "code",
   "execution_count": 4,
   "metadata": {},
   "outputs": [],
   "source": [
    "diff_data, diff_affine, diff_img = load_nifti(\n",
    "                                            fraw,\n",
    "                                            return_img=True)\n",
    "bvals, bvecs = read_bvals_bvecs(fbval, fbvec)\n",
    "gtab = gradient_table(bvals, bvecs, b0_threshold=0)"
   ]
  },
  {
   "cell_type": "code",
   "execution_count": 5,
   "metadata": {},
   "outputs": [],
   "source": [
    "data =np.zeros((diff_data.shape[0], diff_data.shape[1], diff_data.shape[2], 11))\n",
    "data[:,:,:,0] = diff_data[:,:,:,12]\n",
    "data[:,:,:,1:11] = diff_data[:,:,:,0:10]"
   ]
  },
  {
   "cell_type": "code",
   "execution_count": 6,
   "metadata": {},
   "outputs": [],
   "source": [
    "save_nifti(\"E:\\\\02_MriDataSet\\\\07_demo\\\\00_bili_data\\\\100_B\\demo\\\\ivim.nii\",data,diff_affine)"
   ]
  },
  {
   "cell_type": "code",
   "execution_count": 30,
   "metadata": {},
   "outputs": [
    {
     "name": "stdout",
     "output_type": "stream",
     "text": [
      "data.shape (256, 256, 14, 9)\n"
     ]
    }
   ],
   "source": [
    "print('data.shape (%d, %d, %d, %d)' % data.shape)"
   ]
  }
 ],
 "metadata": {
  "kernelspec": {
   "display_name": "Python 3.8.8 64-bit",
   "language": "python",
   "name": "python3"
  },
  "language_info": {
   "codemirror_mode": {
    "name": "ipython",
    "version": 3
   },
   "file_extension": ".py",
   "mimetype": "text/x-python",
   "name": "python",
   "nbconvert_exporter": "python",
   "pygments_lexer": "ipython3",
   "version": "3.8.8"
  },
  "orig_nbformat": 4,
  "vscode": {
   "interpreter": {
    "hash": "3a53c88f4fdc719dd3265ddb13e8e9d7137a6cb76512705960f4604c66fa0a8c"
   }
  }
 },
 "nbformat": 4,
 "nbformat_minor": 2
}
